{
 "cells": [
  {
   "cell_type": "markdown",
   "metadata": {},
   "source": [
    "### Preprocessing the Data for a Neural Network"
   ]
  },
  {
   "cell_type": "code",
   "execution_count": 186,
   "metadata": {},
   "outputs": [],
   "source": [
    "# Import our dependencies\n",
    "from sklearn.model_selection import train_test_split\n",
    "from sklearn.preprocessing import StandardScaler,OneHotEncoder,LabelEncoder\n",
    "from keras.utils import np_utils\n",
    "from config import db_password\n",
    "import psycopg2\n",
    "import pandas as pd\n",
    "import tensorflow as tf"
   ]
  },
  {
   "cell_type": "code",
   "execution_count": 187,
   "metadata": {},
   "outputs": [],
   "source": [
    "# Import and read csv\n",
    "# import pandas as pd \n",
    "# kushy_washington_cleaned_df = pd.read_csv(\"./Data/kushy_washington_cleaned.csv\")\n",
    "# print(kushy_washington_cleaned_df.shape)\n",
    "# kushy_washington_cleaned_df.head()"
   ]
  },
  {
   "cell_type": "code",
   "execution_count": 188,
   "metadata": {},
   "outputs": [
    {
     "name": "stdout",
     "output_type": "stream",
     "text": [
      "Opened database successfully\n"
     ]
    }
   ],
   "source": [
    "# Connect to sql database\n",
    "con = psycopg2.connect(database='Medical-Marijuana-Group', user = 'postgres', password = db_password, host = '127.0.0.1', port = '5432')\n",
    "\n",
    "# Create a new cursor\n",
    "cur = con.cursor()\n",
    "\n",
    "print('Opened database successfully')"
   ]
  },
  {
   "cell_type": "code",
   "execution_count": 189,
   "metadata": {},
   "outputs": [
    {
     "name": "stdout",
     "output_type": "stream",
     "text": [
      "(722, 36)\n"
     ]
    },
    {
     "data": {
      "text/html": [
       "<div>\n",
       "<style scoped>\n",
       "    .dataframe tbody tr th:only-of-type {\n",
       "        vertical-align: middle;\n",
       "    }\n",
       "\n",
       "    .dataframe tbody tr th {\n",
       "        vertical-align: top;\n",
       "    }\n",
       "\n",
       "    .dataframe thead th {\n",
       "        text-align: right;\n",
       "    }\n",
       "</style>\n",
       "<table border=\"1\" class=\"dataframe\">\n",
       "  <thead>\n",
       "    <tr style=\"text-align: right;\">\n",
       "      <th></th>\n",
       "      <th>test_id</th>\n",
       "      <th>test_strain</th>\n",
       "      <th>type</th>\n",
       "      <th>ailment_1</th>\n",
       "      <th>ailment_2</th>\n",
       "      <th>ailment_3</th>\n",
       "      <th>ailment_4</th>\n",
       "      <th>ailment_5</th>\n",
       "      <th>effects_1</th>\n",
       "      <th>effects_2</th>\n",
       "      <th>...</th>\n",
       "      <th>inventory_type</th>\n",
       "      <th>chemotype</th>\n",
       "      <th>strain_leafly_page_rank</th>\n",
       "      <th>strain_leafly_review_rank</th>\n",
       "      <th>strain_tests</th>\n",
       "      <th>strain_chemotype</th>\n",
       "      <th>strain_prop_chemotype1</th>\n",
       "      <th>strain_prop_chemotype2</th>\n",
       "      <th>strain_prop_chemotype3</th>\n",
       "      <th>strain_modal_chemo_prop</th>\n",
       "    </tr>\n",
       "  </thead>\n",
       "  <tbody>\n",
       "    <tr>\n",
       "      <th>0</th>\n",
       "      <td>19</td>\n",
       "      <td>Dutch Hawaiian</td>\n",
       "      <td>Sativa</td>\n",
       "      <td>Depression</td>\n",
       "      <td>Stress</td>\n",
       "      <td>Pain</td>\n",
       "      <td>Nausea</td>\n",
       "      <td>None</td>\n",
       "      <td>Happy</td>\n",
       "      <td>Energetic</td>\n",
       "      <td>...</td>\n",
       "      <td>Flower Lot</td>\n",
       "      <td>1</td>\n",
       "      <td>619</td>\n",
       "      <td>141</td>\n",
       "      <td>425</td>\n",
       "      <td>1</td>\n",
       "      <td>1.0</td>\n",
       "      <td>0.0</td>\n",
       "      <td>0.0</td>\n",
       "      <td>1.0</td>\n",
       "    </tr>\n",
       "    <tr>\n",
       "      <th>1</th>\n",
       "      <td>21</td>\n",
       "      <td>SleeStack</td>\n",
       "      <td>Hybrid</td>\n",
       "      <td>Stress</td>\n",
       "      <td>Depression</td>\n",
       "      <td>None</td>\n",
       "      <td>None</td>\n",
       "      <td>None</td>\n",
       "      <td>Uplifted</td>\n",
       "      <td>Euphoric</td>\n",
       "      <td>...</td>\n",
       "      <td>Flower Lot</td>\n",
       "      <td>1</td>\n",
       "      <td>1276</td>\n",
       "      <td>151</td>\n",
       "      <td>63</td>\n",
       "      <td>1</td>\n",
       "      <td>1.0</td>\n",
       "      <td>0.0</td>\n",
       "      <td>0.0</td>\n",
       "      <td>1.0</td>\n",
       "    </tr>\n",
       "    <tr>\n",
       "      <th>2</th>\n",
       "      <td>22</td>\n",
       "      <td>Space Needle</td>\n",
       "      <td>Sativa</td>\n",
       "      <td>Depression</td>\n",
       "      <td>Stress</td>\n",
       "      <td>None</td>\n",
       "      <td>None</td>\n",
       "      <td>None</td>\n",
       "      <td>Uplifted</td>\n",
       "      <td>Euphoric</td>\n",
       "      <td>...</td>\n",
       "      <td>Flower Lot</td>\n",
       "      <td>1</td>\n",
       "      <td>0</td>\n",
       "      <td>0</td>\n",
       "      <td>0</td>\n",
       "      <td>0</td>\n",
       "      <td>0.0</td>\n",
       "      <td>0.0</td>\n",
       "      <td>0.0</td>\n",
       "      <td>0.0</td>\n",
       "    </tr>\n",
       "    <tr>\n",
       "      <th>3</th>\n",
       "      <td>23</td>\n",
       "      <td>Double Purple Doja</td>\n",
       "      <td>Hybrid</td>\n",
       "      <td>Pain</td>\n",
       "      <td>Stress</td>\n",
       "      <td>Inflammation</td>\n",
       "      <td>Muscle Spasms</td>\n",
       "      <td>None</td>\n",
       "      <td>Relaxed</td>\n",
       "      <td>Creative</td>\n",
       "      <td>...</td>\n",
       "      <td>Flower Lot</td>\n",
       "      <td>1</td>\n",
       "      <td>1115</td>\n",
       "      <td>151</td>\n",
       "      <td>52</td>\n",
       "      <td>1</td>\n",
       "      <td>1.0</td>\n",
       "      <td>0.0</td>\n",
       "      <td>0.0</td>\n",
       "      <td>1.0</td>\n",
       "    </tr>\n",
       "    <tr>\n",
       "      <th>4</th>\n",
       "      <td>37</td>\n",
       "      <td>Jack Skellington</td>\n",
       "      <td>Hybrid</td>\n",
       "      <td>Stress</td>\n",
       "      <td>Depression</td>\n",
       "      <td>Pain</td>\n",
       "      <td>Muscle Spasms</td>\n",
       "      <td>None</td>\n",
       "      <td>Creative</td>\n",
       "      <td>Relaxed</td>\n",
       "      <td>...</td>\n",
       "      <td>Flower Lot</td>\n",
       "      <td>1</td>\n",
       "      <td>708</td>\n",
       "      <td>141</td>\n",
       "      <td>124</td>\n",
       "      <td>1</td>\n",
       "      <td>1.0</td>\n",
       "      <td>0.0</td>\n",
       "      <td>0.0</td>\n",
       "      <td>1.0</td>\n",
       "    </tr>\n",
       "  </tbody>\n",
       "</table>\n",
       "<p>5 rows × 36 columns</p>\n",
       "</div>"
      ],
      "text/plain": [
       "   test_id         test_strain    type   ailment_1    ailment_2  \\\n",
       "0       19      Dutch Hawaiian  Sativa  Depression       Stress   \n",
       "1       21           SleeStack  Hybrid      Stress   Depression   \n",
       "2       22        Space Needle  Sativa  Depression       Stress   \n",
       "3       23  Double Purple Doja  Hybrid        Pain       Stress   \n",
       "4       37    Jack Skellington  Hybrid      Stress   Depression   \n",
       "\n",
       "       ailment_3       ailment_4 ailment_5 effects_1   effects_2  ...  \\\n",
       "0           Pain          Nausea      None     Happy   Energetic  ...   \n",
       "1           None            None      None  Uplifted    Euphoric  ...   \n",
       "2           None            None      None  Uplifted    Euphoric  ...   \n",
       "3   Inflammation   Muscle Spasms      None   Relaxed    Creative  ...   \n",
       "4           Pain   Muscle Spasms      None  Creative     Relaxed  ...   \n",
       "\n",
       "  inventory_type chemotype strain_leafly_page_rank strain_leafly_review_rank  \\\n",
       "0     Flower Lot         1                     619                       141   \n",
       "1     Flower Lot         1                    1276                       151   \n",
       "2     Flower Lot         1                       0                         0   \n",
       "3     Flower Lot         1                    1115                       151   \n",
       "4     Flower Lot         1                     708                       141   \n",
       "\n",
       "  strain_tests strain_chemotype strain_prop_chemotype1 strain_prop_chemotype2  \\\n",
       "0          425                1                    1.0                    0.0   \n",
       "1           63                1                    1.0                    0.0   \n",
       "2            0                0                    0.0                    0.0   \n",
       "3           52                1                    1.0                    0.0   \n",
       "4          124                1                    1.0                    0.0   \n",
       "\n",
       "  strain_prop_chemotype3  strain_modal_chemo_prop  \n",
       "0                    0.0                      1.0  \n",
       "1                    0.0                      1.0  \n",
       "2                    0.0                      0.0  \n",
       "3                    0.0                      1.0  \n",
       "4                    0.0                      1.0  \n",
       "\n",
       "[5 rows x 36 columns]"
      ]
     },
     "execution_count": 189,
     "metadata": {},
     "output_type": "execute_result"
    }
   ],
   "source": [
    "# Create function that takes in a PostgreSQL query and outputs a Pandas dataframe\n",
    "def create_pandas_df(sql_query, database = con):\n",
    "    df = pd.read_sql_query(sql_query, database)\n",
    "    return df\n",
    "  \n",
    "# Utilize the create_pandas_df function to create a Pandas dataframe\n",
    "# Store the data as a variable\n",
    "kushy_washington_cleaned_df = create_pandas_df('SELECT * FROM kushy_washington_cleaned')\n",
    "print(kushy_washington_cleaned_df.shape)\n",
    "kushy_washington_cleaned_df.head()"
   ]
  },
  {
   "cell_type": "code",
   "execution_count": 190,
   "metadata": {},
   "outputs": [
    {
     "name": "stdout",
     "output_type": "stream",
     "text": [
      "Closed database successfully\n"
     ]
    }
   ],
   "source": [
    "# Close the cursor and connection so the server can allocate bandwidth to other requests\n",
    "cur.close()\n",
    "con.close()\n",
    "print('Closed database successfully')"
   ]
  },
  {
   "cell_type": "code",
   "execution_count": 191,
   "metadata": {},
   "outputs": [
    {
     "name": "stdout",
     "output_type": "stream",
     "text": [
      "(722, 34)\n"
     ]
    },
    {
     "data": {
      "text/html": [
       "<div>\n",
       "<style scoped>\n",
       "    .dataframe tbody tr th:only-of-type {\n",
       "        vertical-align: middle;\n",
       "    }\n",
       "\n",
       "    .dataframe tbody tr th {\n",
       "        vertical-align: top;\n",
       "    }\n",
       "\n",
       "    .dataframe thead th {\n",
       "        text-align: right;\n",
       "    }\n",
       "</style>\n",
       "<table border=\"1\" class=\"dataframe\">\n",
       "  <thead>\n",
       "    <tr style=\"text-align: right;\">\n",
       "      <th></th>\n",
       "      <th>type</th>\n",
       "      <th>ailment_1</th>\n",
       "      <th>ailment_2</th>\n",
       "      <th>ailment_3</th>\n",
       "      <th>ailment_4</th>\n",
       "      <th>ailment_5</th>\n",
       "      <th>effects_1</th>\n",
       "      <th>effects_2</th>\n",
       "      <th>effects_3</th>\n",
       "      <th>effects_4</th>\n",
       "      <th>...</th>\n",
       "      <th>inventory_type</th>\n",
       "      <th>chemotype</th>\n",
       "      <th>strain_leafly_page_rank</th>\n",
       "      <th>strain_leafly_review_rank</th>\n",
       "      <th>strain_tests</th>\n",
       "      <th>strain_chemotype</th>\n",
       "      <th>strain_prop_chemotype1</th>\n",
       "      <th>strain_prop_chemotype2</th>\n",
       "      <th>strain_prop_chemotype3</th>\n",
       "      <th>strain_modal_chemo_prop</th>\n",
       "    </tr>\n",
       "  </thead>\n",
       "  <tbody>\n",
       "    <tr>\n",
       "      <th>0</th>\n",
       "      <td>Sativa</td>\n",
       "      <td>Depression</td>\n",
       "      <td>Stress</td>\n",
       "      <td>Pain</td>\n",
       "      <td>Nausea</td>\n",
       "      <td>None</td>\n",
       "      <td>Happy</td>\n",
       "      <td>Energetic</td>\n",
       "      <td>Uplifted</td>\n",
       "      <td>Euphoric</td>\n",
       "      <td>...</td>\n",
       "      <td>Flower Lot</td>\n",
       "      <td>1</td>\n",
       "      <td>619</td>\n",
       "      <td>141</td>\n",
       "      <td>425</td>\n",
       "      <td>1</td>\n",
       "      <td>1.0</td>\n",
       "      <td>0.0</td>\n",
       "      <td>0.0</td>\n",
       "      <td>1.0</td>\n",
       "    </tr>\n",
       "    <tr>\n",
       "      <th>1</th>\n",
       "      <td>Hybrid</td>\n",
       "      <td>Stress</td>\n",
       "      <td>Depression</td>\n",
       "      <td>None</td>\n",
       "      <td>None</td>\n",
       "      <td>None</td>\n",
       "      <td>Uplifted</td>\n",
       "      <td>Euphoric</td>\n",
       "      <td>Creative</td>\n",
       "      <td>Relaxed</td>\n",
       "      <td>...</td>\n",
       "      <td>Flower Lot</td>\n",
       "      <td>1</td>\n",
       "      <td>1276</td>\n",
       "      <td>151</td>\n",
       "      <td>63</td>\n",
       "      <td>1</td>\n",
       "      <td>1.0</td>\n",
       "      <td>0.0</td>\n",
       "      <td>0.0</td>\n",
       "      <td>1.0</td>\n",
       "    </tr>\n",
       "    <tr>\n",
       "      <th>2</th>\n",
       "      <td>Sativa</td>\n",
       "      <td>Depression</td>\n",
       "      <td>Stress</td>\n",
       "      <td>None</td>\n",
       "      <td>None</td>\n",
       "      <td>None</td>\n",
       "      <td>Uplifted</td>\n",
       "      <td>Euphoric</td>\n",
       "      <td>Happy</td>\n",
       "      <td>Hungry</td>\n",
       "      <td>...</td>\n",
       "      <td>Flower Lot</td>\n",
       "      <td>1</td>\n",
       "      <td>0</td>\n",
       "      <td>0</td>\n",
       "      <td>0</td>\n",
       "      <td>0</td>\n",
       "      <td>0.0</td>\n",
       "      <td>0.0</td>\n",
       "      <td>0.0</td>\n",
       "      <td>0.0</td>\n",
       "    </tr>\n",
       "    <tr>\n",
       "      <th>3</th>\n",
       "      <td>Hybrid</td>\n",
       "      <td>Pain</td>\n",
       "      <td>Stress</td>\n",
       "      <td>Inflammation</td>\n",
       "      <td>Muscle Spasms</td>\n",
       "      <td>None</td>\n",
       "      <td>Relaxed</td>\n",
       "      <td>Creative</td>\n",
       "      <td>Sleepy</td>\n",
       "      <td>Happy</td>\n",
       "      <td>...</td>\n",
       "      <td>Flower Lot</td>\n",
       "      <td>1</td>\n",
       "      <td>1115</td>\n",
       "      <td>151</td>\n",
       "      <td>52</td>\n",
       "      <td>1</td>\n",
       "      <td>1.0</td>\n",
       "      <td>0.0</td>\n",
       "      <td>0.0</td>\n",
       "      <td>1.0</td>\n",
       "    </tr>\n",
       "    <tr>\n",
       "      <th>4</th>\n",
       "      <td>Hybrid</td>\n",
       "      <td>Stress</td>\n",
       "      <td>Depression</td>\n",
       "      <td>Pain</td>\n",
       "      <td>Muscle Spasms</td>\n",
       "      <td>None</td>\n",
       "      <td>Creative</td>\n",
       "      <td>Relaxed</td>\n",
       "      <td>Euphoric</td>\n",
       "      <td>Energetic</td>\n",
       "      <td>...</td>\n",
       "      <td>Flower Lot</td>\n",
       "      <td>1</td>\n",
       "      <td>708</td>\n",
       "      <td>141</td>\n",
       "      <td>124</td>\n",
       "      <td>1</td>\n",
       "      <td>1.0</td>\n",
       "      <td>0.0</td>\n",
       "      <td>0.0</td>\n",
       "      <td>1.0</td>\n",
       "    </tr>\n",
       "  </tbody>\n",
       "</table>\n",
       "<p>5 rows × 34 columns</p>\n",
       "</div>"
      ],
      "text/plain": [
       "     type   ailment_1    ailment_2      ailment_3       ailment_4 ailment_5  \\\n",
       "0  Sativa  Depression       Stress           Pain          Nausea      None   \n",
       "1  Hybrid      Stress   Depression           None            None      None   \n",
       "2  Sativa  Depression       Stress           None            None      None   \n",
       "3  Hybrid        Pain       Stress   Inflammation   Muscle Spasms      None   \n",
       "4  Hybrid      Stress   Depression           Pain   Muscle Spasms      None   \n",
       "\n",
       "  effects_1   effects_2  effects_3   effects_4  ... inventory_type chemotype  \\\n",
       "0     Happy   Energetic   Uplifted    Euphoric  ...     Flower Lot         1   \n",
       "1  Uplifted    Euphoric   Creative     Relaxed  ...     Flower Lot         1   \n",
       "2  Uplifted    Euphoric      Happy      Hungry  ...     Flower Lot         1   \n",
       "3   Relaxed    Creative     Sleepy       Happy  ...     Flower Lot         1   \n",
       "4  Creative     Relaxed   Euphoric   Energetic  ...     Flower Lot         1   \n",
       "\n",
       "  strain_leafly_page_rank strain_leafly_review_rank strain_tests  \\\n",
       "0                     619                       141          425   \n",
       "1                    1276                       151           63   \n",
       "2                       0                         0            0   \n",
       "3                    1115                       151           52   \n",
       "4                     708                       141          124   \n",
       "\n",
       "  strain_chemotype strain_prop_chemotype1  strain_prop_chemotype2  \\\n",
       "0                1                    1.0                     0.0   \n",
       "1                1                    1.0                     0.0   \n",
       "2                0                    0.0                     0.0   \n",
       "3                1                    1.0                     0.0   \n",
       "4                1                    1.0                     0.0   \n",
       "\n",
       "   strain_prop_chemotype3  strain_modal_chemo_prop  \n",
       "0                     0.0                      1.0  \n",
       "1                     0.0                      1.0  \n",
       "2                     0.0                      0.0  \n",
       "3                     0.0                      1.0  \n",
       "4                     0.0                      1.0  \n",
       "\n",
       "[5 rows x 34 columns]"
      ]
     },
     "execution_count": 191,
     "metadata": {},
     "output_type": "execute_result"
    }
   ],
   "source": [
    "# Drop non-beneficial identification columns\n",
    "kushy_washington_df = kushy_washington_cleaned_df.drop(['test_id', 'test_strain'], axis=1)\n",
    "print(kushy_washington_df.shape)\n",
    "kushy_washington_df.head()"
   ]
  },
  {
   "cell_type": "code",
   "execution_count": 192,
   "metadata": {},
   "outputs": [
    {
     "data": {
      "text/plain": [
       "type                           4\n",
       "ailment_1                      9\n",
       "ailment_2                      9\n",
       "ailment_3                     10\n",
       "ailment_4                     10\n",
       "ailment_5                      9\n",
       "effects_1                     14\n",
       "effects_2                     23\n",
       "effects_3                     24\n",
       "effects_4                     26\n",
       "effects_5                     28\n",
       "effects_6                      4\n",
       "effects_7                      4\n",
       "effects_8                      4\n",
       "flavor_1                      32\n",
       "flavor_2                      50\n",
       "flavor_3                      42\n",
       "ailment_count                  6\n",
       "effects_count                  9\n",
       "flavor_count                   4\n",
       "thc_max                      697\n",
       "cbd_max                      207\n",
       "thc_cbd                      558\n",
       "cbd_thc                       48\n",
       "inventory_type                 7\n",
       "chemotype                      3\n",
       "strain_leafly_page_rank      640\n",
       "strain_leafly_review_rank    128\n",
       "strain_tests                 291\n",
       "strain_chemotype               4\n",
       "strain_prop_chemotype1       186\n",
       "strain_prop_chemotype2       181\n",
       "strain_prop_chemotype3        57\n",
       "strain_modal_chemo_prop      183\n",
       "dtype: int64"
      ]
     },
     "execution_count": 192,
     "metadata": {},
     "output_type": "execute_result"
    }
   ],
   "source": [
    "# Determine number of unique values in each column\n",
    "kushy_washington_df.nunique()"
   ]
  },
  {
   "cell_type": "code",
   "execution_count": 193,
   "metadata": {},
   "outputs": [
    {
     "data": {
      "text/plain": [
       "Relaxed      295\n",
       "Happy        128\n",
       "None         123\n",
       "Euphoric      66\n",
       "Uplifted      36\n",
       "Energetic     28\n",
       "Sleepy        13\n",
       "Creative      10\n",
       "Focused        6\n",
       "Talkative      5\n",
       "Horny          5\n",
       "Tingly         3\n",
       "Hungry         3\n",
       "Giggly         1\n",
       "Name: effects_1, dtype: int64"
      ]
     },
     "execution_count": 193,
     "metadata": {},
     "output_type": "execute_result"
    }
   ],
   "source": [
    "# Look at effects_1 value counts for binning\n",
    "effects_1_counts = kushy_washington_df.effects_1.value_counts()\n",
    "effects_1_counts"
   ]
  },
  {
   "cell_type": "code",
   "execution_count": 194,
   "metadata": {},
   "outputs": [
    {
     "data": {
      "text/plain": [
       "<AxesSubplot:ylabel='Density'>"
      ]
     },
     "execution_count": 194,
     "metadata": {},
     "output_type": "execute_result"
    },
    {
     "data": {
      "image/png": "[encoded data removed]",
      "text/plain": [
       "<Figure size 432x288 with 1 Axes>"
      ]
     },
     "metadata": {
      "needs_background": "light"
     },
     "output_type": "display_data"
    }
   ],
   "source": [
    "# Visualize the value counts of effects_1\n",
    "effects_1_counts.plot.density()"
   ]
  },
  {
   "cell_type": "code",
   "execution_count": 195,
   "metadata": {},
   "outputs": [
    {
     "data": {
      "text/plain": [
       "Relaxed      295\n",
       "Happy        128\n",
       "None         123\n",
       "Euphoric      66\n",
       "Uplifted      36\n",
       "Energetic     28\n",
       "Other         23\n",
       "Sleepy        13\n",
       "Creative      10\n",
       "Name: effects_1, dtype: int64"
      ]
     },
     "execution_count": 195,
     "metadata": {},
     "output_type": "execute_result"
    }
   ],
   "source": [
    "# Determine which values to replace if counts are less than ...?\n",
    "replace_effects_1 = list(effects_1_counts[effects_1_counts < 10].index)\n",
    "\n",
    "# Replace in dataframe\n",
    "for app in replace_effects_1:\n",
    "    kushy_washington_df.effects_1 = kushy_washington_df.effects_1.replace(app,\"Other\")\n",
    "    \n",
    "# Check to make sure binning was successful\n",
    "kushy_washington_df.effects_1.value_counts()"
   ]
  },
  {
   "cell_type": "code",
   "execution_count": 196,
   "metadata": {},
   "outputs": [
    {
     "data": {
      "text/plain": [
       " Happy        143\n",
       "None          124\n",
       " Sleepy        90\n",
       " Euphoric      76\n",
       " Uplifted      66\n",
       " Relaxed       50\n",
       "Happy          33\n",
       " Energetic     27\n",
       " Focused       22\n",
       "Relaxed        19\n",
       " Creative      12\n",
       "Euphoric       12\n",
       "Uplifted       10\n",
       " Tingly         7\n",
       "Sleepy          7\n",
       " Talkative      7\n",
       " Hungry         5\n",
       " Horny          4\n",
       "Energetic       3\n",
       "Focused         2\n",
       "Hungry          1\n",
       "Giggly          1\n",
       "Creative        1\n",
       "Name: effects_2, dtype: int64"
      ]
     },
     "execution_count": 196,
     "metadata": {},
     "output_type": "execute_result"
    }
   ],
   "source": [
    "# Look at effects_2 value counts for binning\n",
    "effects_2_counts = kushy_washington_df.effects_2.value_counts()\n",
    "effects_2_counts"
   ]
  },
  {
   "cell_type": "code",
   "execution_count": 197,
   "metadata": {},
   "outputs": [
    {
     "data": {
      "text/plain": [
       "<AxesSubplot:ylabel='Density'>"
      ]
     },
     "execution_count": 197,
     "metadata": {},
     "output_type": "execute_result"
    },
    {
     "data": {
      "image/png": "[encoded data removed]",
      "text/plain": [
       "<Figure size 432x288 with 1 Axes>"
      ]
     },
     "metadata": {
      "needs_background": "light"
     },
     "output_type": "display_data"
    }
   ],
   "source": [
    "# Visualize the value counts of effects_3\n",
    "effects_2_counts.plot.density()"
   ]
  },
  {
   "cell_type": "code",
   "execution_count": 198,
   "metadata": {},
   "outputs": [
    {
     "data": {
      "text/plain": [
       " Happy        143\n",
       "None          124\n",
       " Sleepy        90\n",
       " Euphoric      76\n",
       " Uplifted      66\n",
       " Relaxed       50\n",
       "Other          38\n",
       "Happy          33\n",
       " Energetic     27\n",
       " Focused       22\n",
       "Relaxed        19\n",
       " Creative      12\n",
       "Euphoric       12\n",
       "Uplifted       10\n",
       "Name: effects_2, dtype: int64"
      ]
     },
     "execution_count": 198,
     "metadata": {},
     "output_type": "execute_result"
    }
   ],
   "source": [
    "# Determine which values to replace if counts are less than ...?\n",
    "replace_effects_2 = list(effects_2_counts[effects_2_counts < 10].index)\n",
    "\n",
    "# Replace in dataframe\n",
    "for app in replace_effects_2:\n",
    "    kushy_washington_df.effects_2 = kushy_washington_df.effects_2.replace(app,\"Other\")\n",
    "    \n",
    "# Check to make sure binning was successful\n",
    "kushy_washington_df.effects_2.value_counts()"
   ]
  },
  {
   "cell_type": "code",
   "execution_count": 199,
   "metadata": {},
   "outputs": [
    {
     "data": {
      "text/plain": [
       "None          125\n",
       " Happy        113\n",
       " Euphoric     100\n",
       " Uplifted      79\n",
       " Sleepy        46\n",
       " Relaxed       39\n",
       " Hungry        29\n",
       " Energetic     29\n",
       "Euphoric       23\n",
       " Focused       21\n",
       " Creative      20\n",
       "Uplifted       19\n",
       "Relaxed        16\n",
       " Talkative     16\n",
       " Tingly        14\n",
       "Happy          11\n",
       "Giggly          5\n",
       "Talkative       4\n",
       "Energetic       3\n",
       "Focused         3\n",
       " Horny          2\n",
       "Hungry          2\n",
       "Creative        2\n",
       "Tingly          1\n",
       "Name: effects_3, dtype: int64"
      ]
     },
     "execution_count": 199,
     "metadata": {},
     "output_type": "execute_result"
    }
   ],
   "source": [
    "# Look at effects_3 value counts for binning\n",
    "effects_3_counts = kushy_washington_df.effects_3.value_counts()\n",
    "effects_3_counts"
   ]
  },
  {
   "cell_type": "code",
   "execution_count": 200,
   "metadata": {},
   "outputs": [
    {
     "data": {
      "text/plain": [
       "<AxesSubplot:ylabel='Density'>"
      ]
     },
     "execution_count": 200,
     "metadata": {},
     "output_type": "execute_result"
    },
    {
     "data": {
      "image/png": "[encoded data removed]",
      "text/plain": [
       "<Figure size 432x288 with 1 Axes>"
      ]
     },
     "metadata": {
      "needs_background": "light"
     },
     "output_type": "display_data"
    }
   ],
   "source": [
    "# Visualize the value counts of effects_3\n",
    "effects_3_counts.plot.density()"
   ]
  },
  {
   "cell_type": "code",
   "execution_count": 201,
   "metadata": {},
   "outputs": [
    {
     "data": {
      "text/plain": [
       "None          125\n",
       " Happy        113\n",
       " Euphoric     100\n",
       " Uplifted      79\n",
       " Sleepy        46\n",
       " Relaxed       39\n",
       " Hungry        29\n",
       " Energetic     29\n",
       "Euphoric       23\n",
       "Other          22\n",
       " Focused       21\n",
       " Creative      20\n",
       "Uplifted       19\n",
       " Talkative     16\n",
       "Relaxed        16\n",
       " Tingly        14\n",
       "Happy          11\n",
       "Name: effects_3, dtype: int64"
      ]
     },
     "execution_count": 201,
     "metadata": {},
     "output_type": "execute_result"
    }
   ],
   "source": [
    "# Determine which values to replace if counts are less than ...?\n",
    "replace_effects_3 = list(effects_3_counts[effects_3_counts < 10].index)\n",
    "\n",
    "# Replace in dataframe\n",
    "for app in replace_effects_3:\n",
    "    kushy_washington_df.effects_3 = kushy_washington_df.effects_3.replace(app,\"Other\")\n",
    "    \n",
    "# Check to make sure binning was successful\n",
    "kushy_washington_df.effects_3.value_counts()"
   ]
  },
  {
   "cell_type": "code",
   "execution_count": 202,
   "metadata": {},
   "outputs": [
    {
     "data": {
      "text/plain": [
       "None          128\n",
       " Euphoric     108\n",
       " Happy         70\n",
       " Uplifted      68\n",
       " Sleepy        51\n",
       " Creative      38\n",
       " Focused       34\n",
       " Hungry        32\n",
       " Energetic     31\n",
       " Relaxed       28\n",
       "Uplifted       22\n",
       " Tingly        17\n",
       " Talkative     15\n",
       " Horny         14\n",
       "Euphoric       11\n",
       "Creative       11\n",
       "Energetic       8\n",
       "Hungry          7\n",
       "Happy           7\n",
       "Relaxed         7\n",
       "Focused         6\n",
       "Tingly          2\n",
       "Aroused         2\n",
       "Giggly          2\n",
       "Talkative       2\n",
       "Sleepy          1\n",
       "Name: effects_4, dtype: int64"
      ]
     },
     "execution_count": 202,
     "metadata": {},
     "output_type": "execute_result"
    }
   ],
   "source": [
    "# Look at effects_4 value counts for binning\n",
    "effects_4_counts = kushy_washington_df.effects_4.value_counts()\n",
    "effects_4_counts"
   ]
  },
  {
   "cell_type": "code",
   "execution_count": 203,
   "metadata": {},
   "outputs": [
    {
     "data": {
      "text/plain": [
       "<AxesSubplot:ylabel='Density'>"
      ]
     },
     "execution_count": 203,
     "metadata": {},
     "output_type": "execute_result"
    },
    {
     "data": {
      "image/png": "[encoded data removed]",
      "text/plain": [
       "<Figure size 432x288 with 1 Axes>"
      ]
     },
     "metadata": {
      "needs_background": "light"
     },
     "output_type": "display_data"
    }
   ],
   "source": [
    "# Visualize the value counts of effects_4\n",
    "effects_4_counts.plot.density()"
   ]
  },
  {
   "cell_type": "code",
   "execution_count": 204,
   "metadata": {},
   "outputs": [
    {
     "data": {
      "text/plain": [
       "None          128\n",
       " Euphoric     108\n",
       " Happy         70\n",
       " Uplifted      68\n",
       " Sleepy        51\n",
       "Other          44\n",
       " Creative      38\n",
       " Focused       34\n",
       " Hungry        32\n",
       " Energetic     31\n",
       " Relaxed       28\n",
       "Uplifted       22\n",
       " Tingly        17\n",
       " Talkative     15\n",
       " Horny         14\n",
       "Euphoric       11\n",
       "Creative       11\n",
       "Name: effects_4, dtype: int64"
      ]
     },
     "execution_count": 204,
     "metadata": {},
     "output_type": "execute_result"
    }
   ],
   "source": [
    "# Determine which values to replace if counts are less than ...?\n",
    "replace_effects_4 = list(effects_4_counts[effects_4_counts < 10].index)\n",
    "\n",
    "# Replace in dataframe\n",
    "for app in replace_effects_4:\n",
    "    kushy_washington_df.effects_4 = kushy_washington_df.effects_4.replace(app,\"Other\")\n",
    "    \n",
    "# Check to make sure binning was successful\n",
    "kushy_washington_df.effects_4.value_counts()"
   ]
  },
  {
   "cell_type": "code",
   "execution_count": 205,
   "metadata": {},
   "outputs": [
    {
     "data": {
      "text/plain": [
       "None          139\n",
       " Uplifted      92\n",
       " Euphoric      65\n",
       " Hungry        51\n",
       " Creative      48\n",
       " Dry Mouth     43\n",
       " Happy         36\n",
       " Energetic     28\n",
       " Sleepy        27\n",
       " Talkative     25\n",
       " Focused       23\n",
       " Relaxed       23\n",
       "Creative       22\n",
       " Tingly        21\n",
       "Euphoric       13\n",
       "Uplifted       12\n",
       " Horny         10\n",
       "Energetic       8\n",
       "Sleepy          7\n",
       "Hungry          6\n",
       "Happy           5\n",
       "Focused         4\n",
       "Relaxed         3\n",
       "Giggly          3\n",
       " Anxious        3\n",
       "Tingly          2\n",
       "Aroused         2\n",
       "Talkative       1\n",
       "Name: effects_5, dtype: int64"
      ]
     },
     "execution_count": 205,
     "metadata": {},
     "output_type": "execute_result"
    }
   ],
   "source": [
    "# Look at effects_5 value counts for binning\n",
    "effects_5_counts = kushy_washington_df.effects_5.value_counts()\n",
    "effects_5_counts"
   ]
  },
  {
   "cell_type": "code",
   "execution_count": 206,
   "metadata": {},
   "outputs": [
    {
     "data": {
      "text/plain": [
       "<AxesSubplot:ylabel='Density'>"
      ]
     },
     "execution_count": 206,
     "metadata": {},
     "output_type": "execute_result"
    },
    {
     "data": {
      "image/png": "[encoded data removed]",
      "text/plain": [
       "<Figure size 432x288 with 1 Axes>"
      ]
     },
     "metadata": {
      "needs_background": "light"
     },
     "output_type": "display_data"
    }
   ],
   "source": [
    "# Visualize the value counts of effects_5\n",
    "effects_5_counts.plot.density()"
   ]
  },
  {
   "cell_type": "code",
   "execution_count": 207,
   "metadata": {},
   "outputs": [
    {
     "data": {
      "text/plain": [
       "None          139\n",
       " Uplifted      92\n",
       " Euphoric      65\n",
       " Hungry        51\n",
       " Creative      48\n",
       "Other          44\n",
       " Dry Mouth     43\n",
       " Happy         36\n",
       " Energetic     28\n",
       " Sleepy        27\n",
       " Talkative     25\n",
       " Focused       23\n",
       " Relaxed       23\n",
       "Creative       22\n",
       " Tingly        21\n",
       "Euphoric       13\n",
       "Uplifted       12\n",
       " Horny         10\n",
       "Name: effects_5, dtype: int64"
      ]
     },
     "execution_count": 207,
     "metadata": {},
     "output_type": "execute_result"
    }
   ],
   "source": [
    "# Determine which values to replace if counts are less than ...?\n",
    "replace_effects_5 = list(effects_5_counts[effects_5_counts < 10].index)\n",
    "\n",
    "# Replace in dataframe\n",
    "for app in replace_effects_5:\n",
    "    kushy_washington_df.effects_5 = kushy_washington_df.effects_5.replace(app,\"Other\")\n",
    "    \n",
    "# Check to make sure binning was successful\n",
    "kushy_washington_df.effects_5.value_counts()"
   ]
  },
  {
   "cell_type": "code",
   "execution_count": 208,
   "metadata": {},
   "outputs": [
    {
     "data": {
      "text/plain": [
       "Earthy          230\n",
       "Sweet           112\n",
       "None             90\n",
       "Citrus           73\n",
       "Berry            44\n",
       "Pine             25\n",
       "Lemon            22\n",
       "Grape            18\n",
       "Blueberry        16\n",
       "Skunk            10\n",
       "Pineapple         9\n",
       "Strawberry        8\n",
       "Lavender          6\n",
       "Tropical          6\n",
       "Pepper            6\n",
       "Mango             6\n",
       "Pungent           5\n",
       "Diesel            5\n",
       "Woody             4\n",
       "Lime              4\n",
       "Spicy/Herbal      3\n",
       "Vanilla           3\n",
       "Flowery           3\n",
       "Cheese            3\n",
       "Menthol           2\n",
       "Ammonia           2\n",
       "Honey             2\n",
       "Butter            1\n",
       "Apricot           1\n",
       "Tree              1\n",
       "Chemical          1\n",
       "Sage              1\n",
       "Name: flavor_1, dtype: int64"
      ]
     },
     "execution_count": 208,
     "metadata": {},
     "output_type": "execute_result"
    }
   ],
   "source": [
    "# Look at flavor_1 value counts for binning\n",
    "flavor_1_counts = kushy_washington_df.flavor_1.value_counts()\n",
    "flavor_1_counts"
   ]
  },
  {
   "cell_type": "code",
   "execution_count": 209,
   "metadata": {},
   "outputs": [
    {
     "data": {
      "text/plain": [
       "<AxesSubplot:ylabel='Density'>"
      ]
     },
     "execution_count": 209,
     "metadata": {},
     "output_type": "execute_result"
    },
    {
     "data": {
      "image/png": "[encoded data removed]",
      "text/plain": [
       "<Figure size 432x288 with 1 Axes>"
      ]
     },
     "metadata": {
      "needs_background": "light"
     },
     "output_type": "display_data"
    }
   ],
   "source": [
    "# Visualize the value counts of flavor_2\n",
    "flavor_1_counts.plot.density()"
   ]
  },
  {
   "cell_type": "code",
   "execution_count": 210,
   "metadata": {},
   "outputs": [
    {
     "data": {
      "text/plain": [
       "Earthy       230\n",
       "Sweet        112\n",
       "None          90\n",
       "Other         82\n",
       "Citrus        73\n",
       "Berry         44\n",
       "Pine          25\n",
       "Lemon         22\n",
       "Grape         18\n",
       "Blueberry     16\n",
       "Skunk         10\n",
       "Name: flavor_1, dtype: int64"
      ]
     },
     "execution_count": 210,
     "metadata": {},
     "output_type": "execute_result"
    }
   ],
   "source": [
    "# Determine which values to replace if counts are less than ...?\n",
    "replace_flavor_1 = list(flavor_1_counts[flavor_1_counts < 10].index)\n",
    "\n",
    "# Replace in dataframe\n",
    "for app in replace_flavor_1:\n",
    "    kushy_washington_df.flavor_1 = kushy_washington_df.flavor_1.replace(app,\"Other\")\n",
    "    \n",
    "# Check to make sure binning was successful\n",
    "kushy_washington_df.flavor_1.value_counts()"
   ]
  },
  {
   "cell_type": "code",
   "execution_count": 211,
   "metadata": {},
   "outputs": [
    {
     "data": {
      "text/plain": [
       "None            176\n",
       " Sweet          123\n",
       " Earthy          79\n",
       " Citrus          51\n",
       " Pine            45\n",
       " Berry           36\n",
       "Earthy           20\n",
       "Sweet            18\n",
       " Skunk           16\n",
       "Pungent          15\n",
       " Grape           14\n",
       "Citrus           11\n",
       "Woody            10\n",
       " Orange           7\n",
       "Pine              6\n",
       "Berry             6\n",
       " Blueberry        6\n",
       "Spicy/Herbal      6\n",
       " Lemon            6\n",
       "Skunk             5\n",
       " Strawberry       4\n",
       "Flowery           4\n",
       "Pepper            4\n",
       " Coffee           4\n",
       "Tropical          4\n",
       "Orange            4\n",
       " Lime             4\n",
       " Lavender         3\n",
       "Blueberry         3\n",
       " Pineapple        3\n",
       "Sage              3\n",
       "Lemon             2\n",
       " Mint             2\n",
       " Pepper           2\n",
       " Mango            2\n",
       "Grapefruit        2\n",
       " Honey            2\n",
       "Lavender          2\n",
       " Rose             1\n",
       "Diesel            1\n",
       "Ammonia           1\n",
       "Lime              1\n",
       "Rose              1\n",
       "Grape             1\n",
       "Tobacco           1\n",
       " Ammonia          1\n",
       "Fruit             1\n",
       "Honey             1\n",
       " Apple            1\n",
       "Chemical          1\n",
       "Name: flavor_2, dtype: int64"
      ]
     },
     "execution_count": 211,
     "metadata": {},
     "output_type": "execute_result"
    }
   ],
   "source": [
    "# Look at flavor_2 value counts for binning\n",
    "flavor_2_counts = kushy_washington_df.flavor_2.value_counts()\n",
    "flavor_2_counts"
   ]
  },
  {
   "cell_type": "code",
   "execution_count": 212,
   "metadata": {},
   "outputs": [
    {
     "data": {
      "text/plain": [
       "<AxesSubplot:ylabel='Density'>"
      ]
     },
     "execution_count": 212,
     "metadata": {},
     "output_type": "execute_result"
    },
    {
     "data": {
      "image/png": "[encoded data removed]",
      "text/plain": [
       "<Figure size 432x288 with 1 Axes>"
      ]
     },
     "metadata": {
      "needs_background": "light"
     },
     "output_type": "display_data"
    }
   ],
   "source": [
    "# Visualize the value counts of flavor_2\n",
    "flavor_2_counts.plot.density()"
   ]
  },
  {
   "cell_type": "code",
   "execution_count": 213,
   "metadata": {},
   "outputs": [
    {
     "data": {
      "text/plain": [
       "None       176\n",
       " Sweet     123\n",
       "Other      108\n",
       " Earthy     79\n",
       " Citrus     51\n",
       " Pine       45\n",
       " Berry      36\n",
       "Earthy      20\n",
       "Sweet       18\n",
       " Skunk      16\n",
       "Pungent     15\n",
       " Grape      14\n",
       "Citrus      11\n",
       "Woody       10\n",
       "Name: flavor_2, dtype: int64"
      ]
     },
     "execution_count": 213,
     "metadata": {},
     "output_type": "execute_result"
    }
   ],
   "source": [
    "# Determine which values to replace if counts are less than ...?\n",
    "replace_flavor_2 = list(flavor_2_counts[flavor_2_counts < 10].index)\n",
    "\n",
    "# Replace in dataframe\n",
    "for app in replace_flavor_2:\n",
    "    kushy_washington_df.flavor_2 = kushy_washington_df.flavor_2.replace(app,\"Other\")\n",
    "    \n",
    "# Check to make sure binning was successful\n",
    "kushy_washington_df.flavor_2.value_counts()"
   ]
  },
  {
   "cell_type": "code",
   "execution_count": 214,
   "metadata": {},
   "outputs": [
    {
     "data": {
      "text/plain": [
       "None            424\n",
       " Sweet           52\n",
       " Earthy          30\n",
       "Sweet            23\n",
       " Berry           19\n",
       " Citrus          17\n",
       " Pine            16\n",
       "Earthy           14\n",
       "Flowery          13\n",
       "Citrus           13\n",
       "Pungent          11\n",
       "Woody            11\n",
       " Lemon            7\n",
       "Pine              7\n",
       " Grape            7\n",
       " Blueberry        5\n",
       "Spicy/Herbal      5\n",
       "Tropical          5\n",
       "Blueberry         4\n",
       "Grapefruit        3\n",
       " Skunk            3\n",
       "Lemon             3\n",
       " Lime             3\n",
       "Diesel            3\n",
       "Berry             3\n",
       "Orange            2\n",
       "Pepper            2\n",
       " Rose             2\n",
       "Tree              2\n",
       "Lime              1\n",
       "Tea               1\n",
       "Sage              1\n",
       " Coffee           1\n",
       " Strawberry       1\n",
       "Chemical          1\n",
       "Coffee            1\n",
       "Skunk             1\n",
       "Honey             1\n",
       " Pineapple        1\n",
       "Grape             1\n",
       "Cheese            1\n",
       "Strawberry        1\n",
       "Name: flavor_3, dtype: int64"
      ]
     },
     "execution_count": 214,
     "metadata": {},
     "output_type": "execute_result"
    }
   ],
   "source": [
    "# Look at flavor_3 value counts for binning\n",
    "flavor_3_counts = kushy_washington_df.flavor_3.value_counts()\n",
    "flavor_3_counts"
   ]
  },
  {
   "cell_type": "code",
   "execution_count": 215,
   "metadata": {},
   "outputs": [
    {
     "data": {
      "text/plain": [
       "<AxesSubplot:ylabel='Density'>"
      ]
     },
     "execution_count": 215,
     "metadata": {},
     "output_type": "execute_result"
    },
    {
     "data": {
      "image/png": "[encoded data removed]",
      "text/plain": [
       "<Figure size 432x288 with 1 Axes>"
      ]
     },
     "metadata": {
      "needs_background": "light"
     },
     "output_type": "display_data"
    }
   ],
   "source": [
    "# Visualize the value counts of flavor_2\n",
    "flavor_3_counts.plot.density()"
   ]
  },
  {
   "cell_type": "code",
   "execution_count": 216,
   "metadata": {},
   "outputs": [
    {
     "data": {
      "text/plain": [
       "None       424\n",
       "Other       79\n",
       " Sweet      52\n",
       " Earthy     30\n",
       "Sweet       23\n",
       " Berry      19\n",
       " Citrus     17\n",
       " Pine       16\n",
       "Earthy      14\n",
       "Flowery     13\n",
       "Citrus      13\n",
       "Pungent     11\n",
       "Woody       11\n",
       "Name: flavor_3, dtype: int64"
      ]
     },
     "execution_count": 216,
     "metadata": {},
     "output_type": "execute_result"
    }
   ],
   "source": [
    "# Determine which values to replace if counts are less than ...?\n",
    "replace_flavor_3 = list(flavor_3_counts[flavor_3_counts < 10].index)\n",
    "\n",
    "# Replace in dataframe\n",
    "for app in replace_flavor_3:\n",
    "    kushy_washington_df.flavor_3 = kushy_washington_df.flavor_3.replace(app,\"Other\")\n",
    "    \n",
    "# Check to make sure binning was successful\n",
    "kushy_washington_df.flavor_3.value_counts()"
   ]
  },
  {
   "cell_type": "code",
   "execution_count": 217,
   "metadata": {},
   "outputs": [
    {
     "data": {
      "text/plain": [
       "type                          object\n",
       "ailment_1                     object\n",
       "ailment_2                     object\n",
       "ailment_3                     object\n",
       "ailment_4                     object\n",
       "ailment_5                     object\n",
       "effects_1                     object\n",
       "effects_2                     object\n",
       "effects_3                     object\n",
       "effects_4                     object\n",
       "effects_5                     object\n",
       "effects_6                     object\n",
       "effects_7                     object\n",
       "effects_8                     object\n",
       "flavor_1                      object\n",
       "flavor_2                      object\n",
       "flavor_3                      object\n",
       "ailment_count                  int64\n",
       "effects_count                  int64\n",
       "flavor_count                   int64\n",
       "thc_max                      float64\n",
       "cbd_max                      float64\n",
       "thc_cbd                      float64\n",
       "cbd_thc                      float64\n",
       "inventory_type                object\n",
       "chemotype                      int64\n",
       "strain_leafly_page_rank        int64\n",
       "strain_leafly_review_rank      int64\n",
       "strain_tests                   int64\n",
       "strain_chemotype               int64\n",
       "strain_prop_chemotype1       float64\n",
       "strain_prop_chemotype2       float64\n",
       "strain_prop_chemotype3       float64\n",
       "strain_modal_chemo_prop      float64\n",
       "dtype: object"
      ]
     },
     "execution_count": 217,
     "metadata": {},
     "output_type": "execute_result"
    }
   ],
   "source": [
    "# Check datatypes\n",
    "kushy_washington_df.dtypes"
   ]
  },
  {
   "cell_type": "code",
   "execution_count": 218,
   "metadata": {},
   "outputs": [
    {
     "data": {
      "text/plain": [
       "0      0\n",
       "1      8\n",
       "2      0\n",
       "3      7\n",
       "4      8\n",
       "      ..\n",
       "717    7\n",
       "718    1\n",
       "719    8\n",
       "720    6\n",
       "721    6\n",
       "Name: ailment_1, Length: 722, dtype: int32"
      ]
     },
     "execution_count": 218,
     "metadata": {},
     "output_type": "execute_result"
    }
   ],
   "source": [
    "# Use labelencoder to encode target ailment_1 column and check datatype\n",
    "le = LabelEncoder()\n",
    "kushy_washington_df['ailment_1'] = le.fit_transform(kushy_washington_df['ailment_1'])\n",
    "kushy_washington_df['ailment_1']"
   ]
  },
  {
   "cell_type": "code",
   "execution_count": 219,
   "metadata": {},
   "outputs": [
    {
     "data": {
      "text/plain": [
       "type                          object\n",
       "ailment_1                      int32\n",
       "ailment_2                     object\n",
       "ailment_3                     object\n",
       "ailment_4                     object\n",
       "ailment_5                     object\n",
       "effects_1                     object\n",
       "effects_2                     object\n",
       "effects_3                     object\n",
       "effects_4                     object\n",
       "effects_5                     object\n",
       "effects_6                     object\n",
       "effects_7                     object\n",
       "effects_8                     object\n",
       "flavor_1                      object\n",
       "flavor_2                      object\n",
       "flavor_3                      object\n",
       "ailment_count                  int64\n",
       "effects_count                  int64\n",
       "flavor_count                   int64\n",
       "thc_max                      float64\n",
       "cbd_max                      float64\n",
       "thc_cbd                      float64\n",
       "cbd_thc                      float64\n",
       "inventory_type                object\n",
       "chemotype                      int64\n",
       "strain_leafly_page_rank        int64\n",
       "strain_leafly_review_rank      int64\n",
       "strain_tests                   int64\n",
       "strain_chemotype               int64\n",
       "strain_prop_chemotype1       float64\n",
       "strain_prop_chemotype2       float64\n",
       "strain_prop_chemotype3       float64\n",
       "strain_modal_chemo_prop      float64\n",
       "dtype: object"
      ]
     },
     "execution_count": 219,
     "metadata": {},
     "output_type": "execute_result"
    }
   ],
   "source": [
    "# Check datatypes\n",
    "kushy_washington_df.dtypes"
   ]
  },
  {
   "cell_type": "code",
   "execution_count": 220,
   "metadata": {},
   "outputs": [
    {
     "name": "stdout",
     "output_type": "stream",
     "text": [
      "(722, 9)\n"
     ]
    }
   ],
   "source": [
    "# Convert vector of integers to one hot encoding using keras function to_categorical\n",
    "dummy_y = np_utils.to_categorical(kushy_washington_df['ailment_1'])\n",
    "print(dummy_y.shape)"
   ]
  },
  {
   "cell_type": "code",
   "execution_count": 221,
   "metadata": {},
   "outputs": [
    {
     "name": "stdout",
     "output_type": "stream",
     "text": [
      "(722, 191)\n"
     ]
    },
    {
     "data": {
      "text/html": [
       "<div>\n",
       "<style scoped>\n",
       "    .dataframe tbody tr th:only-of-type {\n",
       "        vertical-align: middle;\n",
       "    }\n",
       "\n",
       "    .dataframe tbody tr th {\n",
       "        vertical-align: top;\n",
       "    }\n",
       "\n",
       "    .dataframe thead th {\n",
       "        text-align: right;\n",
       "    }\n",
       "</style>\n",
       "<table border=\"1\" class=\"dataframe\">\n",
       "  <thead>\n",
       "    <tr style=\"text-align: right;\">\n",
       "      <th></th>\n",
       "      <th>ailment_1</th>\n",
       "      <th>ailment_count</th>\n",
       "      <th>effects_count</th>\n",
       "      <th>flavor_count</th>\n",
       "      <th>thc_max</th>\n",
       "      <th>cbd_max</th>\n",
       "      <th>thc_cbd</th>\n",
       "      <th>cbd_thc</th>\n",
       "      <th>chemotype</th>\n",
       "      <th>strain_leafly_page_rank</th>\n",
       "      <th>...</th>\n",
       "      <th>flavor_3_Pungent</th>\n",
       "      <th>flavor_3_Sweet</th>\n",
       "      <th>flavor_3_Woody</th>\n",
       "      <th>inventory_type_Bubble Hash</th>\n",
       "      <th>inventory_type_CO2 Hash Oil</th>\n",
       "      <th>inventory_type_Flower Lot</th>\n",
       "      <th>inventory_type_Food Grade Solvent Extract</th>\n",
       "      <th>inventory_type_Hash</th>\n",
       "      <th>inventory_type_Hydrocarbon Wax</th>\n",
       "      <th>inventory_type_Marijuana Mix</th>\n",
       "    </tr>\n",
       "  </thead>\n",
       "  <tbody>\n",
       "    <tr>\n",
       "      <th>0</th>\n",
       "      <td>0</td>\n",
       "      <td>4</td>\n",
       "      <td>7</td>\n",
       "      <td>2</td>\n",
       "      <td>20.1309</td>\n",
       "      <td>0.54</td>\n",
       "      <td>37.28</td>\n",
       "      <td>0.03</td>\n",
       "      <td>1</td>\n",
       "      <td>619</td>\n",
       "      <td>...</td>\n",
       "      <td>0</td>\n",
       "      <td>0</td>\n",
       "      <td>0</td>\n",
       "      <td>0</td>\n",
       "      <td>0</td>\n",
       "      <td>1</td>\n",
       "      <td>0</td>\n",
       "      <td>0</td>\n",
       "      <td>0</td>\n",
       "      <td>0</td>\n",
       "    </tr>\n",
       "    <tr>\n",
       "      <th>1</th>\n",
       "      <td>8</td>\n",
       "      <td>2</td>\n",
       "      <td>7</td>\n",
       "      <td>2</td>\n",
       "      <td>9.9139</td>\n",
       "      <td>0.00</td>\n",
       "      <td>0.00</td>\n",
       "      <td>0.00</td>\n",
       "      <td>1</td>\n",
       "      <td>1276</td>\n",
       "      <td>...</td>\n",
       "      <td>0</td>\n",
       "      <td>0</td>\n",
       "      <td>0</td>\n",
       "      <td>0</td>\n",
       "      <td>0</td>\n",
       "      <td>1</td>\n",
       "      <td>0</td>\n",
       "      <td>0</td>\n",
       "      <td>0</td>\n",
       "      <td>0</td>\n",
       "    </tr>\n",
       "    <tr>\n",
       "      <th>2</th>\n",
       "      <td>0</td>\n",
       "      <td>2</td>\n",
       "      <td>7</td>\n",
       "      <td>1</td>\n",
       "      <td>10.8132</td>\n",
       "      <td>0.00</td>\n",
       "      <td>0.00</td>\n",
       "      <td>0.00</td>\n",
       "      <td>1</td>\n",
       "      <td>0</td>\n",
       "      <td>...</td>\n",
       "      <td>0</td>\n",
       "      <td>0</td>\n",
       "      <td>0</td>\n",
       "      <td>0</td>\n",
       "      <td>0</td>\n",
       "      <td>1</td>\n",
       "      <td>0</td>\n",
       "      <td>0</td>\n",
       "      <td>0</td>\n",
       "      <td>0</td>\n",
       "    </tr>\n",
       "    <tr>\n",
       "      <th>3</th>\n",
       "      <td>7</td>\n",
       "      <td>4</td>\n",
       "      <td>7</td>\n",
       "      <td>2</td>\n",
       "      <td>11.6702</td>\n",
       "      <td>0.00</td>\n",
       "      <td>0.00</td>\n",
       "      <td>0.00</td>\n",
       "      <td>1</td>\n",
       "      <td>1115</td>\n",
       "      <td>...</td>\n",
       "      <td>0</td>\n",
       "      <td>0</td>\n",
       "      <td>0</td>\n",
       "      <td>0</td>\n",
       "      <td>0</td>\n",
       "      <td>1</td>\n",
       "      <td>0</td>\n",
       "      <td>0</td>\n",
       "      <td>0</td>\n",
       "      <td>0</td>\n",
       "    </tr>\n",
       "    <tr>\n",
       "      <th>4</th>\n",
       "      <td>8</td>\n",
       "      <td>4</td>\n",
       "      <td>8</td>\n",
       "      <td>2</td>\n",
       "      <td>13.4657</td>\n",
       "      <td>0.00</td>\n",
       "      <td>0.00</td>\n",
       "      <td>0.00</td>\n",
       "      <td>1</td>\n",
       "      <td>708</td>\n",
       "      <td>...</td>\n",
       "      <td>0</td>\n",
       "      <td>0</td>\n",
       "      <td>0</td>\n",
       "      <td>0</td>\n",
       "      <td>0</td>\n",
       "      <td>1</td>\n",
       "      <td>0</td>\n",
       "      <td>0</td>\n",
       "      <td>0</td>\n",
       "      <td>0</td>\n",
       "    </tr>\n",
       "  </tbody>\n",
       "</table>\n",
       "<p>5 rows × 191 columns</p>\n",
       "</div>"
      ],
      "text/plain": [
       "   ailment_1  ailment_count  effects_count  flavor_count  thc_max  cbd_max  \\\n",
       "0          0              4              7             2  20.1309     0.54   \n",
       "1          8              2              7             2   9.9139     0.00   \n",
       "2          0              2              7             1  10.8132     0.00   \n",
       "3          7              4              7             2  11.6702     0.00   \n",
       "4          8              4              8             2  13.4657     0.00   \n",
       "\n",
       "   thc_cbd  cbd_thc  chemotype  strain_leafly_page_rank  ...  \\\n",
       "0    37.28     0.03          1                      619  ...   \n",
       "1     0.00     0.00          1                     1276  ...   \n",
       "2     0.00     0.00          1                        0  ...   \n",
       "3     0.00     0.00          1                     1115  ...   \n",
       "4     0.00     0.00          1                      708  ...   \n",
       "\n",
       "   flavor_3_Pungent  flavor_3_Sweet  flavor_3_Woody  \\\n",
       "0                 0               0               0   \n",
       "1                 0               0               0   \n",
       "2                 0               0               0   \n",
       "3                 0               0               0   \n",
       "4                 0               0               0   \n",
       "\n",
       "   inventory_type_Bubble Hash  inventory_type_CO2 Hash Oil  \\\n",
       "0                           0                            0   \n",
       "1                           0                            0   \n",
       "2                           0                            0   \n",
       "3                           0                            0   \n",
       "4                           0                            0   \n",
       "\n",
       "   inventory_type_Flower Lot  inventory_type_Food Grade Solvent Extract  \\\n",
       "0                          1                                          0   \n",
       "1                          1                                          0   \n",
       "2                          1                                          0   \n",
       "3                          1                                          0   \n",
       "4                          1                                          0   \n",
       "\n",
       "   inventory_type_Hash  inventory_type_Hydrocarbon Wax  \\\n",
       "0                    0                               0   \n",
       "1                    0                               0   \n",
       "2                    0                               0   \n",
       "3                    0                               0   \n",
       "4                    0                               0   \n",
       "\n",
       "   inventory_type_Marijuana Mix  \n",
       "0                             0  \n",
       "1                             0  \n",
       "2                             0  \n",
       "3                             0  \n",
       "4                             0  \n",
       "\n",
       "[5 rows x 191 columns]"
      ]
     },
     "execution_count": 221,
     "metadata": {},
     "output_type": "execute_result"
    }
   ],
   "source": [
    "# Use get_dummies() to encode object columns\n",
    "kushy_washington_df_encoded = pd.get_dummies(kushy_washington_df, columns=None)\n",
    "print(kushy_washington_df_encoded.shape)\n",
    "kushy_washington_df_encoded.head()"
   ]
  },
  {
   "cell_type": "code",
   "execution_count": 222,
   "metadata": {},
   "outputs": [],
   "source": [
    "# Split preprocessed data into features and target arrays\n",
    "X = kushy_washington_df_encoded.drop(['ailment_1'],axis=1).values\n",
    "y = dummy_y\n",
    "# Split preprocessed data into training and testing datasets\n",
    "X_train, X_test, y_train, y_test = train_test_split(X, y, test_size=.25, random_state=72)"
   ]
  },
  {
   "cell_type": "code",
   "execution_count": 223,
   "metadata": {},
   "outputs": [],
   "source": [
    "# Create a StandardScaler instance\n",
    "scaler = StandardScaler()\n",
    "\n",
    "# Fit the StandardScaler\n",
    "X_scaler = scaler.fit(X_train)\n",
    "\n",
    "# Scale the data\n",
    "X_train_scaled = X_scaler.transform(X_train)\n",
    "X_test_scaled = X_scaler.transform(X_test)"
   ]
  },
  {
   "cell_type": "markdown",
   "metadata": {},
   "source": [
    "### Compile, Train and Evaluate the Model"
   ]
  },
  {
   "cell_type": "code",
   "execution_count": 224,
   "metadata": {},
   "outputs": [
    {
     "name": "stdout",
     "output_type": "stream",
     "text": [
      "Model: \"sequential_7\"\n",
      "_________________________________________________________________\n",
      " Layer (type)                Output Shape              Param #   \n",
      "=================================================================\n",
      " dense_21 (Dense)            (None, 160)               30560     \n",
      "                                                                 \n",
      " dense_22 (Dense)            (None, 80)                12880     \n",
      "                                                                 \n",
      " dense_23 (Dense)            (None, 9)                 729       \n",
      "                                                                 \n",
      "=================================================================\n",
      "Total params: 44,169\n",
      "Trainable params: 44,169\n",
      "Non-trainable params: 0\n",
      "_________________________________________________________________\n"
     ]
    }
   ],
   "source": [
    "# Define the model - deep neural net, i.e., the number of input/output features and hidden nodes for each layer\n",
    "number_input_features = X_train.shape[1]\n",
    "number_output_features = y.shape[1]\n",
    "hidden_nodes_layer1 = 160\n",
    "hidden_nodes_layer2 = 80\n",
    "hidden_nodes_layer3 = 80\n",
    "hidden_nodes_layer4 = 120\n",
    "hidden_nodes_layer5 = 120\n",
    "hidden_nodes_layer6 = 120\n",
    "\n",
    "nn = tf.keras.models.Sequential()\n",
    "\n",
    "# Input and first hidden layer\n",
    "nn.add(tf.keras.layers.Dense(units=hidden_nodes_layer1, input_dim=number_input_features, activation=\"relu\"))\n",
    "\n",
    "# Second hidden layer\n",
    "nn.add(tf.keras.layers.Dense(units=hidden_nodes_layer2, activation=\"tanh\"))\n",
    "\n",
    "# Third hidden layer\n",
    "# nn.add(tf.keras.layers.Dense(units=hidden_nodes_layer3, activation=\"tanh\"))\n",
    "\n",
    "# Fourth hidden layer\n",
    "# nn.add(tf.keras.layers.Dense(units=hidden_nodes_layer4, activation=\"tanh\"))\n",
    "\n",
    "# Fifth hidden layer\n",
    "# nn.add(tf.keras.layers.Dense(units=hidden_nodes_layer5, activation=\"tanh\"))\n",
    "\n",
    "# Sixth hidden layer\n",
    "# nn.add(tf.keras.layers.Dense(units=hidden_nodes_layer6, activation=\"tanh\"))\n",
    "\n",
    "# Output layer\n",
    "nn.add(tf.keras.layers.Dense(units=number_output_features, activation=\"softmax\"))\n",
    "\n",
    "# Check the structure of the model\n",
    "nn.summary()"
   ]
  },
  {
   "cell_type": "code",
   "execution_count": 225,
   "metadata": {},
   "outputs": [],
   "source": [
    "# Import checkpoint dependencies\n",
    "import os\n",
    "from tensorflow.keras.callbacks import ModelCheckpoint\n",
    "\n",
    "# Define the checkpoint path and filenames\n",
    "os.makedirs(\"checkpoints/\",exist_ok=True)\n",
    "checkpoint_path = \"checkpoints/weights.{epoch:02d}.hdf5\"\n",
    "batch_size = 17\n",
    "\n",
    "# Compile the model\n",
    "nn.compile(loss=\"categorical_crossentropy\", optimizer=\"adam\", metrics=[\"accuracy\"])\n",
    "\n",
    "# Create a callback that saves the model's weights every 5 epochs\n",
    "#cp_callback = ModelCheckpoint(\n",
    "#    filepath=checkpoint_path,\n",
    "#    verbose=1,\n",
    "#    save_weights_only=True,\n",
    "#    save_freq=20*batch_size)"
   ]
  },
  {
   "cell_type": "code",
   "execution_count": 226,
   "metadata": {},
   "outputs": [
    {
     "name": "stdout",
     "output_type": "stream",
     "text": [
      "Epoch 1/100\n",
      "17/17 [==============================] - 1s 3ms/step - loss: 1.4694 - accuracy: 0.5453\n",
      "Epoch 2/100\n",
      "17/17 [==============================] - 0s 3ms/step - loss: 0.7250 - accuracy: 0.7726\n",
      "Epoch 3/100\n",
      "17/17 [==============================] - 0s 3ms/step - loss: 0.4774 - accuracy: 0.8706\n",
      "Epoch 4/100\n",
      "17/17 [==============================] - 0s 2ms/step - loss: 0.3175 - accuracy: 0.9261\n",
      "Epoch 5/100\n",
      "17/17 [==============================] - 0s 2ms/step - loss: 0.2133 - accuracy: 0.9649\n",
      "Epoch 6/100\n",
      "17/17 [==============================] - 0s 3ms/step - loss: 0.1379 - accuracy: 0.9852\n",
      "Epoch 7/100\n",
      "17/17 [==============================] - 0s 4ms/step - loss: 0.0928 - accuracy: 0.9982\n",
      "Epoch 8/100\n",
      "17/17 [==============================] - 0s 4ms/step - loss: 0.0652 - accuracy: 0.9982\n",
      "Epoch 9/100\n",
      "17/17 [==============================] - 0s 3ms/step - loss: 0.0477 - accuracy: 1.0000\n",
      "Epoch 10/100\n",
      "17/17 [==============================] - 0s 3ms/step - loss: 0.0366 - accuracy: 1.0000\n",
      "Epoch 11/100\n",
      "17/17 [==============================] - 0s 3ms/step - loss: 0.0289 - accuracy: 1.0000\n",
      "Epoch 12/100\n",
      "17/17 [==============================] - 0s 3ms/step - loss: 0.0234 - accuracy: 1.0000\n",
      "Epoch 13/100\n",
      "17/17 [==============================] - 0s 3ms/step - loss: 0.0197 - accuracy: 1.0000\n",
      "Epoch 14/100\n",
      "17/17 [==============================] - 0s 3ms/step - loss: 0.0166 - accuracy: 1.0000\n",
      "Epoch 15/100\n",
      "17/17 [==============================] - 0s 3ms/step - loss: 0.0144 - accuracy: 1.0000\n",
      "Epoch 16/100\n",
      "17/17 [==============================] - 0s 3ms/step - loss: 0.0125 - accuracy: 1.0000\n",
      "Epoch 17/100\n",
      "17/17 [==============================] - 0s 3ms/step - loss: 0.0110 - accuracy: 1.0000\n",
      "Epoch 18/100\n",
      "17/17 [==============================] - 0s 3ms/step - loss: 0.0098 - accuracy: 1.0000\n",
      "Epoch 19/100\n",
      "17/17 [==============================] - 0s 3ms/step - loss: 0.0088 - accuracy: 1.0000\n",
      "Epoch 20/100\n",
      "17/17 [==============================] - 0s 3ms/step - loss: 0.0079 - accuracy: 1.0000\n",
      "Epoch 21/100\n",
      "17/17 [==============================] - 0s 3ms/step - loss: 0.0072 - accuracy: 1.0000\n",
      "Epoch 22/100\n",
      "17/17 [==============================] - 0s 4ms/step - loss: 0.0066 - accuracy: 1.0000\n",
      "Epoch 23/100\n",
      "17/17 [==============================] - 0s 4ms/step - loss: 0.0060 - accuracy: 1.0000\n",
      "Epoch 24/100\n",
      "17/17 [==============================] - 0s 3ms/step - loss: 0.0055 - accuracy: 1.0000\n",
      "Epoch 25/100\n",
      "17/17 [==============================] - 0s 3ms/step - loss: 0.0051 - accuracy: 1.0000\n",
      "Epoch 26/100\n",
      "17/17 [==============================] - 0s 3ms/step - loss: 0.0048 - accuracy: 1.0000\n",
      "Epoch 27/100\n",
      "17/17 [==============================] - 0s 3ms/step - loss: 0.0044 - accuracy: 1.0000\n",
      "Epoch 28/100\n",
      "17/17 [==============================] - 0s 3ms/step - loss: 0.0041 - accuracy: 1.0000\n",
      "Epoch 29/100\n",
      "17/17 [==============================] - 0s 4ms/step - loss: 0.0039 - accuracy: 1.0000\n",
      "Epoch 30/100\n",
      "17/17 [==============================] - 0s 3ms/step - loss: 0.0036 - accuracy: 1.0000\n",
      "Epoch 31/100\n",
      "17/17 [==============================] - 0s 3ms/step - loss: 0.0034 - accuracy: 1.0000\n",
      "Epoch 32/100\n",
      "17/17 [==============================] - 0s 3ms/step - loss: 0.0032 - accuracy: 1.0000\n",
      "Epoch 33/100\n",
      "17/17 [==============================] - 0s 3ms/step - loss: 0.0030 - accuracy: 1.0000\n",
      "Epoch 34/100\n",
      "17/17 [==============================] - 0s 4ms/step - loss: 0.0029 - accuracy: 1.0000\n",
      "Epoch 35/100\n",
      "17/17 [==============================] - 0s 3ms/step - loss: 0.0027 - accuracy: 1.0000\n",
      "Epoch 36/100\n",
      "17/17 [==============================] - 0s 3ms/step - loss: 0.0026 - accuracy: 1.0000\n",
      "Epoch 37/100\n",
      "17/17 [==============================] - 0s 3ms/step - loss: 0.0024 - accuracy: 1.0000\n",
      "Epoch 38/100\n",
      "17/17 [==============================] - 0s 3ms/step - loss: 0.0023 - accuracy: 1.0000\n",
      "Epoch 39/100\n",
      "17/17 [==============================] - 0s 3ms/step - loss: 0.0022 - accuracy: 1.0000\n",
      "Epoch 40/100\n",
      "17/17 [==============================] - 0s 4ms/step - loss: 0.0021 - accuracy: 1.0000\n",
      "Epoch 41/100\n",
      "17/17 [==============================] - 0s 3ms/step - loss: 0.0020 - accuracy: 1.0000\n",
      "Epoch 42/100\n",
      "17/17 [==============================] - 0s 4ms/step - loss: 0.0019 - accuracy: 1.0000\n",
      "Epoch 43/100\n",
      "17/17 [==============================] - 0s 4ms/step - loss: 0.0019 - accuracy: 1.0000\n",
      "Epoch 44/100\n",
      "17/17 [==============================] - 0s 3ms/step - loss: 0.0018 - accuracy: 1.0000\n",
      "Epoch 45/100\n",
      "17/17 [==============================] - 0s 2ms/step - loss: 0.0017 - accuracy: 1.0000\n",
      "Epoch 46/100\n",
      "17/17 [==============================] - 0s 3ms/step - loss: 0.0016 - accuracy: 1.0000\n",
      "Epoch 47/100\n",
      "17/17 [==============================] - 0s 3ms/step - loss: 0.0016 - accuracy: 1.0000\n",
      "Epoch 48/100\n",
      "17/17 [==============================] - 0s 4ms/step - loss: 0.0015 - accuracy: 1.0000\n",
      "Epoch 49/100\n",
      "17/17 [==============================] - 0s 4ms/step - loss: 0.0015 - accuracy: 1.0000\n",
      "Epoch 50/100\n",
      "17/17 [==============================] - 0s 3ms/step - loss: 0.0014 - accuracy: 1.0000\n",
      "Epoch 51/100\n",
      "17/17 [==============================] - 0s 4ms/step - loss: 0.0013 - accuracy: 1.0000\n",
      "Epoch 52/100\n",
      "17/17 [==============================] - 0s 2ms/step - loss: 0.0013 - accuracy: 1.0000\n",
      "Epoch 53/100\n",
      "17/17 [==============================] - 0s 3ms/step - loss: 0.0013 - accuracy: 1.0000\n",
      "Epoch 54/100\n",
      "17/17 [==============================] - 0s 3ms/step - loss: 0.0012 - accuracy: 1.0000\n",
      "Epoch 55/100\n",
      "17/17 [==============================] - 0s 4ms/step - loss: 0.0012 - accuracy: 1.0000\n",
      "Epoch 56/100\n",
      "17/17 [==============================] - 0s 3ms/step - loss: 0.0011 - accuracy: 1.0000\n",
      "Epoch 57/100\n",
      "17/17 [==============================] - 0s 3ms/step - loss: 0.0011 - accuracy: 1.0000\n",
      "Epoch 58/100\n",
      "17/17 [==============================] - 0s 3ms/step - loss: 0.0011 - accuracy: 1.0000\n",
      "Epoch 59/100\n",
      "17/17 [==============================] - 0s 4ms/step - loss: 0.0010 - accuracy: 1.0000\n",
      "Epoch 60/100\n",
      "17/17 [==============================] - 0s 4ms/step - loss: 9.9699e-04 - accuracy: 1.0000\n",
      "Epoch 61/100\n",
      "17/17 [==============================] - 0s 3ms/step - loss: 9.6825e-04 - accuracy: 1.0000\n",
      "Epoch 62/100\n",
      "17/17 [==============================] - 0s 4ms/step - loss: 9.3845e-04 - accuracy: 1.0000\n",
      "Epoch 63/100\n",
      "17/17 [==============================] - 0s 3ms/step - loss: 9.1112e-04 - accuracy: 1.0000\n",
      "Epoch 64/100\n",
      "17/17 [==============================] - 0s 3ms/step - loss: 8.8457e-04 - accuracy: 1.0000\n",
      "Epoch 65/100\n",
      "17/17 [==============================] - 0s 3ms/step - loss: 8.5930e-04 - accuracy: 1.0000\n",
      "Epoch 66/100\n",
      "17/17 [==============================] - 0s 3ms/step - loss: 8.3516e-04 - accuracy: 1.0000\n",
      "Epoch 67/100\n",
      "17/17 [==============================] - 0s 3ms/step - loss: 8.1157e-04 - accuracy: 1.0000\n",
      "Epoch 68/100\n",
      "17/17 [==============================] - 0s 3ms/step - loss: 7.8949e-04 - accuracy: 1.0000\n",
      "Epoch 69/100\n",
      "17/17 [==============================] - 0s 3ms/step - loss: 7.6804e-04 - accuracy: 1.0000\n",
      "Epoch 70/100\n",
      "17/17 [==============================] - 0s 3ms/step - loss: 7.4796e-04 - accuracy: 1.0000\n",
      "Epoch 71/100\n",
      "17/17 [==============================] - 0s 3ms/step - loss: 7.2773e-04 - accuracy: 1.0000\n",
      "Epoch 72/100\n",
      "17/17 [==============================] - 0s 3ms/step - loss: 7.0887e-04 - accuracy: 1.0000\n",
      "Epoch 73/100\n",
      "17/17 [==============================] - 0s 3ms/step - loss: 6.9058e-04 - accuracy: 1.0000\n",
      "Epoch 74/100\n",
      "17/17 [==============================] - 0s 3ms/step - loss: 6.7290e-04 - accuracy: 1.0000\n",
      "Epoch 75/100\n",
      "17/17 [==============================] - 0s 3ms/step - loss: 6.5647e-04 - accuracy: 1.0000\n",
      "Epoch 76/100\n",
      "17/17 [==============================] - 0s 3ms/step - loss: 6.3952e-04 - accuracy: 1.0000\n",
      "Epoch 77/100\n",
      "17/17 [==============================] - 0s 3ms/step - loss: 6.2410e-04 - accuracy: 1.0000\n",
      "Epoch 78/100\n",
      "17/17 [==============================] - 0s 3ms/step - loss: 6.0897e-04 - accuracy: 1.0000\n",
      "Epoch 79/100\n",
      "17/17 [==============================] - 0s 3ms/step - loss: 5.9465e-04 - accuracy: 1.0000\n",
      "Epoch 80/100\n",
      "17/17 [==============================] - 0s 3ms/step - loss: 5.8037e-04 - accuracy: 1.0000\n",
      "Epoch 81/100\n",
      "17/17 [==============================] - 0s 3ms/step - loss: 5.6663e-04 - accuracy: 1.0000\n",
      "Epoch 82/100\n"
     ]
    },
    {
     "name": "stdout",
     "output_type": "stream",
     "text": [
      "17/17 [==============================] - 0s 3ms/step - loss: 5.5361e-04 - accuracy: 1.0000\n",
      "Epoch 83/100\n",
      "17/17 [==============================] - 0s 3ms/step - loss: 5.4064e-04 - accuracy: 1.0000\n",
      "Epoch 84/100\n",
      "17/17 [==============================] - 0s 3ms/step - loss: 5.2828e-04 - accuracy: 1.0000\n",
      "Epoch 85/100\n",
      "17/17 [==============================] - 0s 3ms/step - loss: 5.1641e-04 - accuracy: 1.0000\n",
      "Epoch 86/100\n",
      "17/17 [==============================] - 0s 3ms/step - loss: 5.0492e-04 - accuracy: 1.0000\n",
      "Epoch 87/100\n",
      "17/17 [==============================] - 0s 3ms/step - loss: 4.9380e-04 - accuracy: 1.0000\n",
      "Epoch 88/100\n",
      "17/17 [==============================] - 0s 3ms/step - loss: 4.8298e-04 - accuracy: 1.0000\n",
      "Epoch 89/100\n",
      "17/17 [==============================] - 0s 3ms/step - loss: 4.7271e-04 - accuracy: 1.0000\n",
      "Epoch 90/100\n",
      "17/17 [==============================] - 0s 3ms/step - loss: 4.6260e-04 - accuracy: 1.0000\n",
      "Epoch 91/100\n",
      "17/17 [==============================] - 0s 3ms/step - loss: 4.5266e-04 - accuracy: 1.0000\n",
      "Epoch 92/100\n",
      "17/17 [==============================] - 0s 3ms/step - loss: 4.4292e-04 - accuracy: 1.0000\n",
      "Epoch 93/100\n",
      "17/17 [==============================] - 0s 3ms/step - loss: 4.3417e-04 - accuracy: 1.0000\n",
      "Epoch 94/100\n",
      "17/17 [==============================] - 0s 3ms/step - loss: 4.2486e-04 - accuracy: 1.0000\n",
      "Epoch 95/100\n",
      "17/17 [==============================] - 0s 3ms/step - loss: 4.1615e-04 - accuracy: 1.0000\n",
      "Epoch 96/100\n",
      "17/17 [==============================] - 0s 3ms/step - loss: 4.0806e-04 - accuracy: 1.0000\n",
      "Epoch 97/100\n",
      "17/17 [==============================] - 0s 3ms/step - loss: 3.9958e-04 - accuracy: 1.0000\n",
      "Epoch 98/100\n",
      "17/17 [==============================] - 0s 3ms/step - loss: 3.9171e-04 - accuracy: 1.0000\n",
      "Epoch 99/100\n",
      "17/17 [==============================] - 0s 3ms/step - loss: 3.8371e-04 - accuracy: 1.0000\n",
      "Epoch 100/100\n",
      "17/17 [==============================] - 0s 3ms/step - loss: 3.7635e-04 - accuracy: 1.0000\n"
     ]
    }
   ],
   "source": [
    "# Train the model\n",
    "fit_model = nn.fit(X_train_scaled,y_train,epochs=100) # , callbacks=[cp_callback]"
   ]
  },
  {
   "cell_type": "code",
   "execution_count": 227,
   "metadata": {},
   "outputs": [
    {
     "name": "stdout",
     "output_type": "stream",
     "text": [
      "6/6 - 0s - loss: 0.9598 - accuracy: 0.8066 - 231ms/epoch - 39ms/step\n",
      "Loss: 0.9598016142845154, Accuracy: 0.8066298365592957\n"
     ]
    }
   ],
   "source": [
    "# Evaluate the model using the test data\n",
    "model_loss, model_accuracy = nn.evaluate(X_test_scaled,y_test,verbose=2)\n",
    "print(f\"Loss: {model_loss}, Accuracy: {model_accuracy}\")"
   ]
  },
  {
   "cell_type": "code",
   "execution_count": 101,
   "metadata": {},
   "outputs": [],
   "source": [
    "# Export our model to HDF5 file\n",
    "# nn.save(\"MMG_DLNN.h5\")"
   ]
  },
  {
   "cell_type": "code",
   "execution_count": null,
   "metadata": {},
   "outputs": [],
   "source": []
  }
 ],
 "metadata": {
  "kernelspec": {
   "display_name": "mlenv",
   "language": "python",
   "name": "mlenv"
  },
  "language_info": {
   "codemirror_mode": {
    "name": "ipython",
    "version": 3
   },
   "file_extension": ".py",
   "mimetype": "text/x-python",
   "name": "python",
   "nbconvert_exporter": "python",
   "pygments_lexer": "ipython3",
   "version": "3.7.11"
  }
 },
 "nbformat": 4,
 "nbformat_minor": 2
}
